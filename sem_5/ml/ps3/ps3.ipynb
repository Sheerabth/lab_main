{
 "nbformat": 4,
 "nbformat_minor": 0,
 "metadata": {
  "colab": {
   "name": "ps3",
   "provenance": [],
   "collapsed_sections": []
  },
  "kernelspec": {
   "name": "python3",
   "language": "python",
   "display_name": "Python 3 (ipykernel)"
  },
  "language_info": {
   "name": "python"
  }
 },
 "cells": [
  {
   "cell_type": "code",
   "metadata": {
    "colab": {
     "base_uri": "https://localhost:8080/",
     "height": 484
    },
    "id": "ytwlhKArvkTv",
    "outputId": "2617d572-eb75-437c-bc28-600675a10c46"
   },
   "source": [
    "import pandas as pd\n",
    "iris_data = pd.read_csv(\"Iris.csv\")\n",
    "print(iris_data)"
   ],
   "execution_count": 98,
   "outputs": [
    {
     "name": "stdout",
     "output_type": "stream",
     "text": [
      "      Id  SepalLengthCm  SepalWidthCm  PetalLengthCm  PetalWidthCm  \\\n",
      "0      1            5.1           3.5            1.4           0.2   \n",
      "1      2            4.9           3.0            1.4           0.2   \n",
      "2      3            4.7           3.2            1.3           0.2   \n",
      "3      4            4.6           3.1            1.5           0.2   \n",
      "4      5            5.0           3.6            1.4           0.2   \n",
      "..   ...            ...           ...            ...           ...   \n",
      "145  146            6.7           3.0            5.2           2.3   \n",
      "146  147            6.3           2.5            5.0           1.9   \n",
      "147  148            6.5           3.0            5.2           2.0   \n",
      "148  149            6.2           3.4            5.4           2.3   \n",
      "149  150            5.9           3.0            5.1           1.8   \n",
      "\n",
      "            Species  \n",
      "0       Iris-setosa  \n",
      "1       Iris-setosa  \n",
      "2       Iris-setosa  \n",
      "3       Iris-setosa  \n",
      "4       Iris-setosa  \n",
      "..              ...  \n",
      "145  Iris-virginica  \n",
      "146  Iris-virginica  \n",
      "147  Iris-virginica  \n",
      "148  Iris-virginica  \n",
      "149  Iris-virginica  \n",
      "\n",
      "[150 rows x 6 columns]\n"
     ]
    }
   ]
  },
  {
   "cell_type": "code",
   "metadata": {
    "colab": {
     "base_uri": "https://localhost:8080/"
    },
    "id": "WM0qMxklzTjZ",
    "outputId": "0f601044-8678-429b-975f-971c61b6a89c"
   },
   "source": [
    "iris_data = iris_data.loc[(iris_data[\"Species\"] == \"Iris-setosa\") | (iris_data[\"Species\"] == \"Iris-versicolor\") ]\n",
    "iris_data[\"Species\"] = iris_data[\"Species\"].map({\"Iris-setosa\": 0, \"Iris-versicolor\": 1})\n",
    "print(iris_data)"
   ],
   "execution_count": 99,
   "outputs": [
    {
     "name": "stdout",
     "output_type": "stream",
     "text": [
      "     Id  SepalLengthCm  SepalWidthCm  PetalLengthCm  PetalWidthCm  Species\n",
      "0     1            5.1           3.5            1.4           0.2        0\n",
      "1     2            4.9           3.0            1.4           0.2        0\n",
      "2     3            4.7           3.2            1.3           0.2        0\n",
      "3     4            4.6           3.1            1.5           0.2        0\n",
      "4     5            5.0           3.6            1.4           0.2        0\n",
      "..  ...            ...           ...            ...           ...      ...\n",
      "95   96            5.7           3.0            4.2           1.2        1\n",
      "96   97            5.7           2.9            4.2           1.3        1\n",
      "97   98            6.2           2.9            4.3           1.3        1\n",
      "98   99            5.1           2.5            3.0           1.1        1\n",
      "99  100            5.7           2.8            4.1           1.3        1\n",
      "\n",
      "[100 rows x 6 columns]\n"
     ]
    }
   ]
  },
  {
   "cell_type": "code",
   "metadata": {
    "colab": {
     "base_uri": "https://localhost:8080/"
    },
    "id": "eebEx4fp50-L",
    "outputId": "9b606b08-235e-441d-fded-e481e0c9a725"
   },
   "source": [
    "iris_data[\"Id\"] = iris_data[\"Id\"].apply(lambda x: 1)\n",
    "iris_data.rename(columns={\"Id\": \"Bias\"}, inplace=\"True\")\n",
    "print(iris_data)"
   ],
   "execution_count": 100,
   "outputs": [
    {
     "name": "stdout",
     "output_type": "stream",
     "text": [
      "    Bias  SepalLengthCm  SepalWidthCm  PetalLengthCm  PetalWidthCm  Species\n",
      "0      1            5.1           3.5            1.4           0.2        0\n",
      "1      1            4.9           3.0            1.4           0.2        0\n",
      "2      1            4.7           3.2            1.3           0.2        0\n",
      "3      1            4.6           3.1            1.5           0.2        0\n",
      "4      1            5.0           3.6            1.4           0.2        0\n",
      "..   ...            ...           ...            ...           ...      ...\n",
      "95     1            5.7           3.0            4.2           1.2        1\n",
      "96     1            5.7           2.9            4.2           1.3        1\n",
      "97     1            6.2           2.9            4.3           1.3        1\n",
      "98     1            5.1           2.5            3.0           1.1        1\n",
      "99     1            5.7           2.8            4.1           1.3        1\n",
      "\n",
      "[100 rows x 6 columns]\n"
     ]
    }
   ]
  },
  {
   "cell_type": "code",
   "metadata": {
    "colab": {
     "base_uri": "https://localhost:8080/"
    },
    "id": "6f_4d_dT1nlD",
    "outputId": "2abd9b5a-ee31-4186-ba8e-de93a41cd696"
   },
   "source": [
    "from sklearn.model_selection import train_test_split\n",
    "X = iris_data.drop(\"Species\", axis=1)\n",
    "y = iris_data[\"Species\"]\n",
    "print(X.shape, y.shape)"
   ],
   "execution_count": 101,
   "outputs": [
    {
     "name": "stdout",
     "output_type": "stream",
     "text": [
      "(100, 5) (100,)\n"
     ]
    }
   ]
  },
  {
   "cell_type": "code",
   "metadata": {
    "colab": {
     "base_uri": "https://localhost:8080/"
    },
    "id": "fr-wkic4301U",
    "outputId": "c766bb62-a759-47a0-d678-98898882950f"
   },
   "source": [
    "X_train, X_test, y_train, y_test = train_test_split(X, y, test_size=0.33, random_state=42)\n",
    "X_train = X_train.to_numpy()\n",
    "y_train = y_train.to_numpy()\n",
    "X_test = X_test.to_numpy()\n",
    "y_test = y_test.to_numpy()\n",
    "print(X_train.shape, X_test.shape, y_train.shape, y_test.shape)"
   ],
   "execution_count": 102,
   "outputs": [
    {
     "name": "stdout",
     "output_type": "stream",
     "text": [
      "(67, 5) (33, 5) (67,) (33,)\n"
     ]
    }
   ]
  },
  {
   "cell_type": "code",
   "metadata": {
    "colab": {
     "base_uri": "https://localhost:8080/"
    },
    "id": "N5AHxNp55hDz",
    "outputId": "3c58f475-07dc-4422-cf68-102e52165102"
   },
   "source": [
    "import numpy as np\n",
    "w = np.random.rand(X_train.shape[1])\n",
    "print(w)"
   ],
   "execution_count": 103,
   "outputs": [
    {
     "name": "stdout",
     "output_type": "stream",
     "text": [
      "[0.43977252 0.22946324 0.13272546 0.8898143  0.78485623]\n"
     ]
    }
   ]
  },
  {
   "cell_type": "code",
   "metadata": {
    "id": "QA3TkU_k8Uif"
   },
   "source": [
    "def sigmoid(x):\n",
    "  return 1/(1 + np.exp(-x))"
   ],
   "execution_count": 104,
   "outputs": []
  },
  {
   "cell_type": "code",
   "metadata": {
    "id": "-TpoEjon9BJd",
    "colab": {
     "base_uri": "https://localhost:8080/"
    },
    "outputId": "7cd26660-ce23-4395-a621-815dc66c4f45"
   },
   "source": [
    "converged = False\n",
    "# for i in range(1, 20000):\n",
    "epochs = 0\n",
    "while not converged:\n",
    "    epochs += 1\n",
    "    converged = True\n",
    "    for data in zip(X_train, y_train):\n",
    "        result = sigmoid(np.dot(w, data[0]))\n",
    "        yhat = 0\n",
    "        if result >= 0.5:\n",
    "          yhat = 1\n",
    "        if data[1] != yhat:\n",
    "          converged = False\n",
    "          gradient = (data[1] - sigmoid(np.dot(w, data[0])))*data[0]\n",
    "          w = w + 0.01*gradient\n",
    "print(\"Weights are\", w)\n",
    "print(\"Number of epochs\", epochs)"
   ],
   "execution_count": 105,
   "outputs": [
    {
     "name": "stdout",
     "output_type": "stream",
     "text": [
      "Weights are [ 0.34034791 -0.27513671 -0.20943472  0.74150473  0.75925982]\n",
      "Number of epochs 2\n"
     ]
    }
   ]
  },
  {
   "cell_type": "code",
   "execution_count": 106,
   "outputs": [
    {
     "name": "stdout",
     "output_type": "stream",
     "text": [
      "Accuracy based on training set is 100.0 %\n"
     ]
    }
   ],
   "source": [
    "correct = 0\n",
    "for data in zip(X_test, y_test):\n",
    "    result = sigmoid(np.dot(w, data[0]))\n",
    "    yhat = 0\n",
    "    if result >= 0.5:\n",
    "        yhat = 1\n",
    "    if data[1] == yhat:\n",
    "        correct += 1\n",
    "\n",
    "accuracy = (correct/y_test.shape[0])*100\n",
    "print(\"Accuracy based on training set is\", accuracy, \"%\")"
   ],
   "metadata": {
    "collapsed": false,
    "pycharm": {
     "name": "#%%\n"
    }
   }
  }
 ]
}