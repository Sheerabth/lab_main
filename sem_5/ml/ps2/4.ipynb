{
 "cells": [
  {
   "cell_type": "code",
   "execution_count": 21,
   "metadata": {
    "collapsed": true
   },
   "outputs": [],
   "source": [
    "import numpy as np\n",
    "import matplotlib.pyplot as plt"
   ]
  },
  {
   "cell_type": "code",
   "execution_count": 22,
   "outputs": [],
   "source": [
    "def plot(weights, inputs, targets):\n",
    "    range_x = np.linspace(-10, 10)\n",
    "    fig, ax = plt.subplots()\n",
    "\n",
    "    ax.plot(range_x, range_x * (weights[1] + weights[0]))\n",
    "\n",
    "    for coord, target in zip(inputs, targets):\n",
    "        ax.plot(coord[1], target, 'ro')"
   ],
   "metadata": {
    "collapsed": false,
    "pycharm": {
     "name": "#%%\n"
    }
   }
  },
  {
   "cell_type": "code",
   "execution_count": 23,
   "outputs": [],
   "source": [
    "def model(x, y):\n",
    "    x = np.insert(x, 0, np.full(x.shape[0], 1, dtype=int), 1)\n",
    "    w = np.random.rand(x.shape[1])\n",
    "    # w = np.full(x.shape[1], 1, dtype=int)\n",
    "    converged = False\n",
    "    epoch = 0\n",
    "    while not converged:\n",
    "        epoch += 1\n",
    "        gd = np.full(x.shape[1], 0, dtype=int)\n",
    "        for i in range(0, x.shape[0]):\n",
    "            yhat = np.dot(w, x[i])\n",
    "            gd = gd + (y[i] - yhat)*x[i]\n",
    "\n",
    "        if np.all(np.abs(gd) <= 0.01):\n",
    "            converged = True\n",
    "        else:\n",
    "            w = w + 1e-3*gd\n",
    "    print(\"Number of epochs\", epoch)\n",
    "    plot(w, x, y)\n",
    "    return w"
   ],
   "metadata": {
    "collapsed": false,
    "pycharm": {
     "name": "#%%\n"
    }
   }
  },
  {
   "cell_type": "code",
   "execution_count": 24,
   "outputs": [
    {
     "name": "stdout",
     "output_type": "stream",
     "text": [
      "Number of epochs 20888\n",
      "Weights are [-2.63255005  9.49189218]\n"
     ]
    },
    {
     "data": {
      "text/plain": "<Figure size 432x288 with 1 Axes>",
      "image/png": "[encoded data removed]"
     },
     "metadata": {
      "needs_background": "light"
     },
     "output_type": "display_data"
    }
   ],
   "source": [
    "weights = model(np.array([[4], [4.5], [5], [5.5], [6], [6.5], [7]]), np.array([33, 42, 45, 51, 53, 61, 62]))\n",
    "print(\"Weights are\", weights)"
   ],
   "metadata": {
    "collapsed": false,
    "pycharm": {
     "name": "#%%\n"
    }
   }
  }
 ],
 "metadata": {
  "kernelspec": {
   "display_name": "Python 3",
   "language": "python",
   "name": "python3"
  },
  "language_info": {
   "codemirror_mode": {
    "name": "ipython",
    "version": 2
   },
   "file_extension": ".py",
   "mimetype": "text/x-python",
   "name": "python",
   "nbconvert_exporter": "python",
   "pygments_lexer": "ipython2",
   "version": "2.7.6"
  }
 },
 "nbformat": 4,
 "nbformat_minor": 0
}